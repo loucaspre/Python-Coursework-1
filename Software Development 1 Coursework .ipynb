{
 "cells": [
  {
   "cell_type": "markdown",
   "metadata": {},
   "source": [
    "# Software Development 1 Courserwork"
   ]
  },
  {
   "cell_type": "code",
   "execution_count": 54,
   "metadata": {},
   "outputs": [
    {
     "name": "stdout",
     "output_type": "stream",
     "text": [
      "1010\n"
     ]
    }
   ],
   "source": [
    "#EXERCISE I\n",
    "#1. Asks the user to enter a number “x” \n",
    "x = int (input (\"10\"))"
   ]
  },
  {
   "cell_type": "code",
   "execution_count": 55,
   "metadata": {},
   "outputs": [
    {
     "name": "stdout",
     "output_type": "stream",
     "text": [
      "55\n"
     ]
    }
   ],
   "source": [
    "#2. Asks the user to enter a number \"y\"\n",
    "y = int (input (\"5\"))"
   ]
  },
  {
   "cell_type": "code",
   "execution_count": 56,
   "metadata": {},
   "outputs": [
    {
     "name": "stdout",
     "output_type": "stream",
     "text": [
      "10\n"
     ]
    }
   ],
   "source": [
    "print (x)"
   ]
  },
  {
   "cell_type": "code",
   "execution_count": 57,
   "metadata": {},
   "outputs": [
    {
     "name": "stdout",
     "output_type": "stream",
     "text": [
      "5\n"
     ]
    }
   ],
   "source": [
    "print (y)"
   ]
  },
  {
   "cell_type": "code",
   "execution_count": 58,
   "metadata": {},
   "outputs": [
    {
     "name": "stdout",
     "output_type": "stream",
     "text": [
      "15\n"
     ]
    }
   ],
   "source": [
    "#3a. The sum of x and y\n",
    "print (x+y)\n"
   ]
  },
  {
   "cell_type": "code",
   "execution_count": 59,
   "metadata": {},
   "outputs": [
    {
     "name": "stdout",
     "output_type": "stream",
     "text": [
      "5\n"
     ]
    }
   ],
   "source": [
    "#3b Asks the user to enter a number “y” \n",
    "print (x-y)\n"
   ]
  },
  {
   "cell_type": "code",
   "execution_count": 60,
   "metadata": {},
   "outputs": [
    {
     "name": "stdout",
     "output_type": "stream",
     "text": [
      "50\n"
     ]
    }
   ],
   "source": [
    "#3c. The product of x and y \n",
    "print (x*y)"
   ]
  },
  {
   "cell_type": "code",
   "execution_count": 61,
   "metadata": {},
   "outputs": [
    {
     "name": "stdout",
     "output_type": "stream",
     "text": [
      "2.0\n"
     ]
    }
   ],
   "source": [
    "#3d. The quotient when x is divided by y\n",
    "print (x/y)"
   ]
  },
  {
   "cell_type": "code",
   "execution_count": 62,
   "metadata": {
    "scrolled": true
   },
   "outputs": [
    {
     "name": "stdout",
     "output_type": "stream",
     "text": [
      "0\n"
     ]
    }
   ],
   "source": [
    "#3e. The remainder when x is divided by y\n",
    "print (x%y)"
   ]
  },
  {
   "cell_type": "code",
   "execution_count": 63,
   "metadata": {},
   "outputs": [
    {
     "name": "stdout",
     "output_type": "stream",
     "text": [
      "1.0\n"
     ]
    }
   ],
   "source": [
    "#3f The result of log10x\n",
    "import math #importin\n",
    "print (math.log10(x))\n"
   ]
  },
  {
   "cell_type": "code",
   "execution_count": 64,
   "metadata": {},
   "outputs": [
    {
     "name": "stdout",
     "output_type": "stream",
     "text": [
      "100000\n"
     ]
    }
   ],
   "source": [
    "#3g The result of x**y\n",
    "print (x**y)\n"
   ]
  },
  {
   "cell_type": "code",
   "execution_count": 3,
   "metadata": {},
   "outputs": [
    {
     "name": "stdout",
     "output_type": "stream",
     "text": [
      "1.51.5\n",
      "5.65.6\n",
      "The total area of the room is 8.399999999999999 meters\n"
     ]
    }
   ],
   "source": [
    "#EXERCISE II\n",
    "#Write a program that asks the user to enter the width and length of a room in meters. Once these values have been\n",
    "#read (as floating-point numbers), your program should compute and display the area of the room. Include units in your\n",
    "#prompt and output message.\n",
    "\n",
    "#Asking user to enter the width\n",
    "width = float (input ('1.5'))\n",
    "#Asking user to enter the length\n",
    "length = float (input (\"5.6\"))\n",
    "#To calcute the total of area, we will have to multiply the width by the length\n",
    "#When the area is included in the print function then it multiplies and it's inlcuded in the result when we run \n",
    "#the cell \n",
    "area = width * length\n",
    "print (\"The total area of the room is\", area, \"meters\")\n",
    "\n"
   ]
  },
  {
   "cell_type": "code",
   "execution_count": 8,
   "metadata": {},
   "outputs": [
    {
     "name": "stdout",
     "output_type": "stream",
     "text": [
      "Enter birth year: 1951\n",
      "Pig\n"
     ]
    }
   ],
   "source": [
    "#EXERCISE III: CHINESE ZODIAC ASSIGNS \n",
    "year = int(input(\"Enter birth year: \")) #When we run the program it's going ask to enter the number of the year\n",
    "#which will result to showing us the respective chinese zodiac sign. \n",
    "#The years are 2000 to 2011\n",
    "\n",
    "#I will start the cycle with the year 1999 as it's when the previous cycle ended. \n",
    "\n",
    "zodiacYear = year % 12\n",
    "\n",
    "if (zodiacYear %12 == 0): \n",
    "    print (\"Hare\")\n",
    "elif (zodiacYear %12 == 1): \n",
    "    print (\"Dragon\")\n",
    "elif (zodiacYear %12 == 2): \n",
    "    print (\"Snake\")\n",
    "elif (zodiacYear %12 == 3):\n",
    "    print (\"Horse\")\n",
    "elif (zodiacYear %12 == 4):\n",
    "    print (\"Sheep\")\n",
    "elif (zodiacYear %12 == 5):\n",
    "    print (\"Monkey\")\n",
    "elif (zodiacYear %12 == 6): \n",
    "    print (\"Rooster\")\n",
    "elif (zodiacYear %12 == 7): \n",
    "    print (\"Pig\")\n",
    "elif (zodiacYear %12 == 8):\n",
    "    print (\"Rat\")\n",
    "elif (zodiacYear %12 == 9):\n",
    "    print (\"Ox\")\n",
    "elif (zodiacYear %12 == 10):\n",
    "    print (\"Tiger\")\n",
    "elif (zodiacYear %12 ==11):\n",
    "    print (\"Dog\")\n",
    "elif (zodiacYear %12 ==12):\n",
    "    print (\"Hare\")\n",
    "\n",
    "    #end\n",
    "    "
   ]
  },
  {
   "cell_type": "code",
   "execution_count": 5,
   "metadata": {},
   "outputs": [
    {
     "name": "stdout",
     "output_type": "stream",
     "text": [
      "Enter starting value:\n",
      "1\n",
      "Enter ending value:\n",
      "10\n",
      "\t1\t2\t3\t4\t5\t6\t7\t8\t9\t10\t\n",
      "1\t1\t2\t3\t4\t5\t6\t7\t8\t9\t10\t\n",
      "2\t2\t4\t6\t8\t10\t12\t14\t16\t18\t20\t\n",
      "3\t3\t6\t9\t12\t15\t18\t21\t24\t27\t30\t\n",
      "4\t4\t8\t12\t16\t20\t24\t28\t32\t36\t40\t\n",
      "5\t5\t10\t15\t20\t25\t30\t35\t40\t45\t50\t\n",
      "6\t6\t12\t18\t24\t30\t36\t42\t48\t54\t60\t\n",
      "7\t7\t14\t21\t28\t35\t42\t49\t56\t63\t70\t\n",
      "8\t8\t16\t24\t32\t40\t48\t56\t64\t72\t80\t\n",
      "9\t9\t18\t27\t36\t45\t54\t63\t72\t81\t90\t\n",
      "10\t10\t20\t30\t40\t50\t60\t70\t80\t90\t100\t\n"
     ]
    }
   ],
   "source": [
    "#EXERCISE IV: MULTIPLICATION TABLE\n",
    "#I will be using the def function, creating nested loops and asking the user to add a value and return it \n",
    "#in order to display the multiplication table. \n",
    "\n",
    "def nested_loop(start, end):\n",
    "    # printing the top header\n",
    "    print('', end='\\t')\n",
    "    for i in range(start, end +1):\n",
    "        print(i, end='\\t')\n",
    "    print('')\n",
    "\n",
    "    for i in range(start, end + 1):\n",
    "        print(i, end='\\t') # printing the running column \n",
    "        for j in range(start, end + 1):\n",
    "            print(i * j, end='\\t')\n",
    "        print('')\n",
    "\n",
    "\n",
    "def get_value(label):\n",
    "    print(\"Enter \" + label + \" value:\")\n",
    "    value = int(input())\n",
    "    return value # returning the calculation \n",
    "\n",
    "\n",
    "def table():\n",
    "    start = get_value(\"starting\")\n",
    "    end = get_value(\"ending\")\n",
    "    nested_loop(start, end)\n",
    "\n",
    "table ()\n",
    "\n",
    "#To diplay multiplication table below, please run the code, add \"1\" as starting value and \"10\" as the ending value\n",
    "#end"
   ]
  },
  {
   "cell_type": "code",
   "execution_count": 1,
   "metadata": {},
   "outputs": [
    {
     "name": "stdout",
     "output_type": "stream",
     "text": [
      "The portion of the down payment is £ 27500.0\n",
      "3166.6666666666665\n",
      "The monthly savings are 316.6666666666667\n",
      "110000.0110000.0\n",
      "The cost of the house is £ 110000.0\n",
      "38000.038000.0\n",
      "My starting annual salary is £ 38000.0\n",
      "0.10.1\n",
      "The portion of my salary saved is 0.1\n",
      "It will take 279 months to save!\n"
     ]
    }
   ],
   "source": [
    "#EXERCISE V - House Purchase Calculationsδ \n",
    "\n",
    "#Assigning values:\n",
    "\n",
    "cost_of_home = 110000.0\n",
    "down_payment = 110000.0 * 0.25 #110000.0 is the total cost of the future home times 25% (0.25)\n",
    "#which I have turned into a float. \n",
    "annual_salary = 38000.0\n",
    "portion_of_the_salary_saved = 0.1 #10% turned in decimals (float)\n",
    "print (\"The portion of the down payment is\",\"£\", down_payment)\n",
    "savings= 0 \n",
    "r = 0.04 \n",
    "\n",
    "monthly_salary = (annual_salary / 12.0)\n",
    "print (monthly_salary)\n",
    "\n",
    "monthly_savings = monthly_salary*0.1 \n",
    "print (\"The monthly savings are\", monthly_savings)\n",
    "\n",
    "\n",
    "\n",
    "#Using the float function and the input function to ask the user for input of the following: \n",
    "\n",
    "cost_of_home = float (input(\"110000.0\"))#Asking the user for input on the cost of my future home \n",
    "\n",
    "print (\"The cost of the house is\",\"£\",cost_of_home ) #Printing a sentence that states the cost of the house\n",
    "\n",
    "annual_salary = float (input (38000.0))#Asking the user for input of my starting annual salary. \n",
    "print (\"My starting annual salary is\",\"£\", annual_salary) #Printing a sentence that states my annual salary. \n",
    "\n",
    "salary_saved = float (input (0.1)) #Asking the user for input of my saved salary \n",
    "print (\"The portion of my salary saved is\", salary_saved) #Printing a sentence that states my annual salary.\n",
    "\n",
    "\n",
    "\n",
    "months = 0\n",
    "# Want to exit the loop when there is enough savings for a down payment\n",
    "while savings < down_payment:\n",
    "    savings +=  savings * (0.4 / 12)  # Monthly interest\n",
    "    savings += salary_saved  # Monthly savings\n",
    "    months += 1\n",
    "print(\"It will take {} months to save!\".format(months))\n",
    "\n",
    "\n"
   ]
  }
 ],
 "metadata": {
  "kernelspec": {
   "display_name": "Python 3",
   "language": "python",
   "name": "python3"
  },
  "language_info": {
   "codemirror_mode": {
    "name": "ipython",
    "version": 3
   },
   "file_extension": ".py",
   "mimetype": "text/x-python",
   "name": "python",
   "nbconvert_exporter": "python",
   "pygments_lexer": "ipython3",
   "version": "3.8.3"
  }
 },
 "nbformat": 4,
 "nbformat_minor": 4
}
